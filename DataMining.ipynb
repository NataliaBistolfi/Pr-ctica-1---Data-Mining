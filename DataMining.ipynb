{
 "cells": [
  {
   "metadata": {},
   "cell_type": "markdown",
   "source": "## Práctica 1 ",
   "id": "f54b797820a0708"
  },
  {
   "metadata": {
    "ExecuteTime": {
     "end_time": "2024-10-21T18:52:22.844513Z",
     "start_time": "2024-10-21T18:52:22.716161Z"
    }
   },
   "cell_type": "code",
   "source": [
    "import requests\n",
    "import json"
   ],
   "id": "23809150b00c9059",
   "outputs": [],
   "execution_count": 161
  },
  {
   "metadata": {},
   "cell_type": "markdown",
   "source": "",
   "id": "84c4fb71ba28a11c"
  },
  {
   "metadata": {
    "ExecuteTime": {
     "end_time": "2024-10-21T18:52:21.419213400Z",
     "start_time": "2024-10-21T11:27:08.210923Z"
    }
   },
   "cell_type": "code",
   "source": [
    "fechas = [\"01-01-2024\", \"01-07-2024\"]\n",
    "\n",
    "result = []\n",
    "for fecha in fechas:\n",
    "    url = f\"https://api.coingecko.com/api/v3/coins/bitcoin/history?date={fecha}\"\n",
    "    response = requests.get(url)\n",
    "    data=response.json()\n",
    "    datos = {}\n",
    "    datos[\"usd\"] = data[\"market_data\"][\"current_price\"][\"usd\"]\n",
    "    datos[\"eur\"] = data[\"market_data\"][\"current_price\"][\"eur\"]\n",
    "    result.append(datos)"
   ],
   "id": "29fa9969934c7529",
   "outputs": [],
   "execution_count": 159
  },
  {
   "metadata": {},
   "cell_type": "markdown",
   "source": "## Generación del archivo.json",
   "id": "d99f470f79634f0a"
  },
  {
   "metadata": {
    "ExecuteTime": {
     "end_time": "2024-10-21T18:52:21.702416200Z",
     "start_time": "2024-10-21T11:27:11.705198Z"
    }
   },
   "cell_type": "code",
   "source": [
    "with open(\"bitcoin_historical_data.json.\",\"w\") as out_file:\n",
    "    json.dump(result, out_file, indent=4)"
   ],
   "id": "aa9f960e0c28f767",
   "outputs": [],
   "execution_count": 160
  }
 ],
 "metadata": {
  "kernelspec": {
   "display_name": "Python 3",
   "language": "python",
   "name": "python3"
  },
  "language_info": {
   "codemirror_mode": {
    "name": "ipython",
    "version": 2
   },
   "file_extension": ".py",
   "mimetype": "text/x-python",
   "name": "python",
   "nbconvert_exporter": "python",
   "pygments_lexer": "ipython2",
   "version": "2.7.6"
  }
 },
 "nbformat": 4,
 "nbformat_minor": 5
}
